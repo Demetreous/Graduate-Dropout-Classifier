{
 "cells": [
  {
   "cell_type": "markdown",
   "metadata": {},
   "source": [
    "Binary classification of problem of students graduating or dropping out\n",
    "Algorithm: Naïve Bayes\n",
    "Author: Demetreous Stillman"
   ]
  },
  {
   "cell_type": "code",
   "execution_count": 50,
   "metadata": {},
   "outputs": [],
   "source": [
    "# Libraries\n",
    "import pandas as pd\n",
    "import numpy as np\n",
    "import matplotlib.pyplot as plt\n",
    "from sklearn.model_selection import train_test_split\n",
    "from sklearn.preprocessing import MinMaxScaler\n",
    "from sklearn.naive_bayes import GaussianNB, MultinomialNB, CategoricalNB, ComplementNB\n",
    "from sklearn.metrics import accuracy_score\n",
    "from sklearn.metrics import mean_squared_error\n",
    "from sklearn.metrics import confusion_matrix, ConfusionMatrixDisplay\n",
    "from sklearn.metrics import classification_report\n",
    "from sklearn.model_selection import cross_val_score"
   ]
  },
  {
   "cell_type": "code",
   "execution_count": 51,
   "metadata": {},
   "outputs": [
    {
     "name": "stderr",
     "output_type": "stream",
     "text": [
      "/var/folders/9g/2y_gmxqn22l8hl960qphhhmw0000gn/T/ipykernel_40155/3298502298.py:10: SettingWithCopyWarning: \n",
      "A value is trying to be set on a copy of a slice from a DataFrame.\n",
      "Try using .loc[row_indexer,col_indexer] = value instead\n",
      "\n",
      "See the caveats in the documentation: https://pandas.pydata.org/pandas-docs/stable/user_guide/indexing.html#returning-a-view-versus-a-copy\n",
      "  df['Target'] = df['Target'].replace(target_mapping)\n"
     ]
    }
   ],
   "source": [
    "# Load the CSV file into a dataFrame\n",
    "df_with_enrolled = pd.read_csv(\"/Users/demetreousstillman/Desktop/CSE_5160_Project/dropout_data.csv\", sep=\";\")\n",
    "\n",
    "# Filter rows where the 'Target' column is not equal to 'Enrolled'\n",
    "df = df_with_enrolled[df_with_enrolled['Target'] != 'Enrolled']\n",
    "\n",
    "# Define a mapping dictionary to convert categories to numerical values\n",
    "target_mapping = {'Graduate': 0, 'Dropout': 1}\n",
    "# Use the mapping dictionary to replace values in the \"Target\" column\n",
    "df['Target'] = df['Target'].replace(target_mapping)\n",
    "\n",
    "# X contains all columns except the \"Target\" column\n",
    "X = df.drop(\"Target\", axis=1) \n",
    "# y contains only the \"Target\" column\n",
    "y = df[\"Target\"]\n",
    "\n",
    "# Split the data into training and testing sets\n",
    "X_train, X_test, y_train, y_test = train_test_split(X, y, test_size=0.2, random_state=42)"
   ]
  },
  {
   "cell_type": "code",
   "execution_count": 52,
   "metadata": {},
   "outputs": [],
   "source": [
    "gnb = GaussianNB()\n",
    "gnb.fit(X_train, y_train)\n",
    "y_gnb_pred = gnb.predict(X_test)"
   ]
  },
  {
   "cell_type": "code",
   "execution_count": 53,
   "metadata": {},
   "outputs": [
    {
     "name": "stdout",
     "output_type": "stream",
     "text": [
      "Cross Validation Scores Array:\n",
      "[0.83505155 0.85223368 0.83848797 0.83505155 0.84482759 0.85517241\n",
      " 0.83448276 0.81724138 0.80344828 0.86551724]\n",
      "\n",
      "Mean Cross Validation Score: 0.8381514397440455\n"
     ]
    }
   ],
   "source": [
    "scores = cross_val_score(gnb, X_train, y_train, cv=10)\n",
    "print(\"Cross Validation Scores Array:\")\n",
    "print(scores)\n",
    "print(\"\\nMean Cross Validation Score:\", np.mean(scores))"
   ]
  },
  {
   "cell_type": "code",
   "execution_count": 54,
   "metadata": {},
   "outputs": [
    {
     "name": "stdout",
     "output_type": "stream",
     "text": [
      "Training Accuracy: 0.8402\n",
      "Test Accuracy: 0.8457\n"
     ]
    }
   ],
   "source": [
    "# Evaluate training accuracy\n",
    "y_train_pred = gnb.predict(X_train)\n",
    "train_accuracy = accuracy_score(y_train, y_train_pred)\n",
    "print(f\"Training Accuracy: {train_accuracy:.4f}\")\n",
    "\n",
    "# Evaluate test accuracy\n",
    "y_test_pred = gnb.predict(X_test)\n",
    "test_accuracy = accuracy_score(y_test, y_test_pred)\n",
    "print(f\"Test Accuracy: {test_accuracy:.4f}\")"
   ]
  },
  {
   "cell_type": "code",
   "execution_count": 55,
   "metadata": {},
   "outputs": [
    {
     "name": "stdout",
     "output_type": "stream",
     "text": [
      "              precision    recall  f1-score   support\n",
      "\n",
      "    Graduate       0.85      0.92      0.88       449\n",
      "     Dropout       0.85      0.73      0.78       277\n",
      "\n",
      "    accuracy                           0.85       726\n",
      "   macro avg       0.85      0.82      0.83       726\n",
      "weighted avg       0.85      0.85      0.84       726\n",
      "\n"
     ]
    }
   ],
   "source": [
    "target_names = ['Graduate', 'Dropout']\n",
    "print(classification_report(y_test, y_test_pred, target_names=target_names))"
   ]
  },
  {
   "cell_type": "code",
   "execution_count": 56,
   "metadata": {},
   "outputs": [
    {
     "data": {
      "image/png": "[encoded data removed]",
      "text/plain": [
       "<Figure size 640x480 with 2 Axes>"
      ]
     },
     "metadata": {},
     "output_type": "display_data"
    }
   ],
   "source": [
    "cm = confusion_matrix(y_test, y_test_pred)\n",
    "disp = ConfusionMatrixDisplay(confusion_matrix=cm)\n",
    "disp.plot()\n",
    "plt.show()"
   ]
  },
  {
   "cell_type": "code",
   "execution_count": null,
   "metadata": {},
   "outputs": [],
   "source": [
    "X_train"
   ]
  },
  {
   "cell_type": "code",
   "execution_count": 57,
   "metadata": {},
   "outputs": [
    {
     "name": "stdout",
     "output_type": "stream",
     "text": [
      "Indices of negative values in X_train: (array([   4,    4,    6, ..., 2899, 2900, 2900]), array([34, 35, 34, ..., 35, 34, 35]))\n"
     ]
    }
   ],
   "source": [
    "# Check for negative values in X_train\n",
    "neg_indices = np.where(X_train < 0)\n",
    "print(\"Indices of negative values in X_train:\", neg_indices)"
   ]
  },
  {
   "cell_type": "code",
   "execution_count": 58,
   "metadata": {},
   "outputs": [],
   "source": [
    "scaler = MinMaxScaler()\n",
    "X_train_scaled = scaler.fit_transform(X_train)\n",
    "scaler = MinMaxScaler()\n",
    "X_test_scaled = scaler.fit_transform(X_test)"
   ]
  },
  {
   "cell_type": "code",
   "execution_count": 89,
   "metadata": {},
   "outputs": [],
   "source": [
    "cnb = ComplementNB()\n",
    "cnb.fit(X_train_scaled, y_train)\n",
    "y_cnb_pred = cnb.predict(X_test_scaled)"
   ]
  },
  {
   "cell_type": "code",
   "execution_count": 90,
   "metadata": {},
   "outputs": [
    {
     "name": "stdout",
     "output_type": "stream",
     "text": [
      "Cross Validation Scores Array:\n",
      "[0.80756014 0.83848797 0.81443299 0.80412371 0.82758621 0.79655172\n",
      " 0.82068966 0.78275862 0.8        0.84482759]\n",
      "\n",
      "Mean Cross Validation Score: 0.8137018604100013\n"
     ]
    }
   ],
   "source": [
    "scores = cross_val_score(cnb, X_train_scaled, y_train, cv=10)\n",
    "print(\"Cross Validation Scores Array:\")\n",
    "print(scores)\n",
    "print(\"\\nMean Cross Validation Score:\", np.mean(scores))"
   ]
  },
  {
   "cell_type": "code",
   "execution_count": 91,
   "metadata": {},
   "outputs": [
    {
     "name": "stdout",
     "output_type": "stream",
     "text": [
      "Training Accuracy: 0.8161\n",
      "Test Accuracy: 0.8223\n"
     ]
    }
   ],
   "source": [
    "# Evaluate training accuracy\n",
    "y_train_pred = cnb.predict(X_train_scaled)\n",
    "train_accuracy = accuracy_score(y_train, y_train_pred)\n",
    "print(f\"Training Accuracy: {train_accuracy:.4f}\")\n",
    "\n",
    "# Evaluate test accuracy\n",
    "y_test_pred = cnb.predict(X_test_scaled)\n",
    "test_accuracy = accuracy_score(y_test, y_test_pred)\n",
    "print(f\"Test Accuracy: {test_accuracy:.4f}\")"
   ]
  },
  {
   "cell_type": "code",
   "execution_count": 62,
   "metadata": {},
   "outputs": [
    {
     "name": "stdout",
     "output_type": "stream",
     "text": [
      "              precision    recall  f1-score   support\n",
      "\n",
      "    Graduate       0.86      0.85      0.85       449\n",
      "     Dropout       0.76      0.78      0.77       277\n",
      "\n",
      "    accuracy                           0.82       726\n",
      "   macro avg       0.81      0.81      0.81       726\n",
      "weighted avg       0.82      0.82      0.82       726\n",
      "\n"
     ]
    }
   ],
   "source": [
    "target_names = ['Graduate', 'Dropout']\n",
    "print(classification_report(y_test, y_test_pred, target_names=target_names))"
   ]
  },
  {
   "cell_type": "code",
   "execution_count": 63,
   "metadata": {},
   "outputs": [
    {
     "data": {
      "image/png": "[encoded data removed]",
      "text/plain": [
       "<Figure size 640x480 with 2 Axes>"
      ]
     },
     "metadata": {},
     "output_type": "display_data"
    }
   ],
   "source": [
    "cm = confusion_matrix(y_test, y_test_pred)\n",
    "disp = ConfusionMatrixDisplay(confusion_matrix=cm)\n",
    "disp.plot()\n",
    "plt.show()"
   ]
  },
  {
   "cell_type": "code",
   "execution_count": null,
   "metadata": {},
   "outputs": [],
   "source": [
    "from sklearn.model_selection import GridSearchCV\n",
    "from sklearn.naive_bayes import ComplementNB\n",
    "\n",
    "# Define the parameter grid\n",
    "param_grid = {'alpha': [0.1, 0.5, 1.0, 1.5, 2.0]}\n",
    "\n",
    "# Create the CNB model\n",
    "cnb = ComplementNB()\n",
    "\n",
    "# Perform grid search\n",
    "grid_search = GridSearchCV(cnb, param_grid, cv=5)\n",
    "grid_search.fit(X_train_scaled, y_train)\n",
    "\n",
    "# Get the best hyperparameters\n",
    "best_alpha = grid_search.best_params_['alpha']"
   ]
  },
  {
   "cell_type": "code",
   "execution_count": null,
   "metadata": {},
   "outputs": [],
   "source": [
    "from sklearn.model_selection import cross_val_score\n",
    "\n",
    "# Create CNB model with best alpha\n",
    "best_cnb = ComplementNB(alpha=best_alpha)\n",
    "\n",
    "# Perform cross-validation\n",
    "#cv_scores = cross_val_score(best_cnb, X_train_scaled, y_train, cv=5)\n",
    "\n",
    "scores = cross_val_score(best_cnb, X_train_scaled, y_train, cv=10)\n",
    "print(\"Cross Validation Scores Array:\")\n",
    "print(scores)\n",
    "print(\"\\nMean Cross Validation Score:\", np.mean(scores))\n",
    "\n",
    "best_cnb.fit(X_train_scaled, y_train)\n",
    "\n",
    "# Evaluate training accuracy\n",
    "y_train_pred = best_cnb.predict(X_train_scaled)\n",
    "train_accuracy = accuracy_score(y_train, y_train_pred)\n",
    "print(f\"Training Accuracy: {train_accuracy:.4f}\")\n",
    "\n",
    "# Evaluate test accuracy\n",
    "y_test_pred = best_cnb.predict(X_test_scaled)\n",
    "test_accuracy = accuracy_score(y_test, y_test_pred)\n",
    "print(f\"Test Accuracy: {test_accuracy:.4f}\")"
   ]
  }
 ],
 "metadata": {
  "kernelspec": {
   "display_name": "Python 3",
   "language": "python",
   "name": "python3"
  },
  "language_info": {
   "codemirror_mode": {
    "name": "ipython",
    "version": 3
   },
   "file_extension": ".py",
   "mimetype": "text/x-python",
   "name": "python",
   "nbconvert_exporter": "python",
   "pygments_lexer": "ipython3",
   "version": "3.11.1"
  }
 },
 "nbformat": 4,
 "nbformat_minor": 2
}
